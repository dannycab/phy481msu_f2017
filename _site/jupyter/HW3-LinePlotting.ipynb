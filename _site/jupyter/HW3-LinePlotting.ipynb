{
 "cells": [
  {
   "cell_type": "markdown",
   "metadata": {},
   "source": [
    "# Basic Plotting\n",
    "Plotting functions is an essential task. It is important to be able to see how different aspects of a model behave, evolve, and depend on other aspects. This brief notebook illustrates the basics of plotting the function, $y(x) = ax^2+bx+c$. At the end of the notebook is the problem you must plot. \n",
    "\n",
    "**Note: you do not need to reinvoke the statements in the first cell - one invocation is enough.**\n",
    "\n",
    "### [Skip to problem to solve](./HW3-LinePlotting.ipynb#Problem-to-Solve)"
   ]
  },
  {
   "cell_type": "markdown",
   "metadata": {},
   "source": [
    "## Invoke the numeric and plotting libraries\n",
    "The first few lines import the ```numpy``` and ```matplotlib``` libraries. We will use ```numpy``` to create an array of numbers (our x-values) and ```matplotlib``` to perform the plotting. The next line invokes a plot style -- essentially, to make our plots look nicer. The last line makes sure that the plots occur inline."
   ]
  },
  {
   "cell_type": "code",
   "execution_count": 1,
   "metadata": {
    "collapsed": true
   },
   "outputs": [],
   "source": [
    "import numpy as np                ## Import numpy for arange\n",
    "import matplotlib.pyplot as plt   ## Import matplotlib for plotting\n",
    "plt.style.use('fivethirtyeight')  ## Use a nice style\n",
    "%matplotlib inline"
   ]
  },
  {
   "cell_type": "markdown",
   "metadata": {},
   "source": [
    "## Create the function to plot\n",
    "To plot with Python, you will need a paired list of numbers (array) that are the same length. One (of many ways) to do this, is to create an array of numbers for the independent variable (that goes on the $x$-axis) using ```numpy.arange```, which you have used before. You can then process those numbers by computing from them the dependent variable. \n",
    "\n",
    "*Note: You can't do this in general, you will have to pick numbers for your other variables (i.e., $a,b,$ and $c$).*"
   ]
  },
  {
   "cell_type": "code",
   "execution_count": 2,
   "metadata": {
    "collapsed": true
   },
   "outputs": [],
   "source": [
    "x = np.arange(-11,10,0.1)    ## Create an array of numbers\n",
    "a = 0.1                      ## Pick numeric values for a, b, and c \n",
    "b = 0.4                      ## For your problem, you want to pick reasonable values that make some\n",
    "c = 5                        ## sense physically\n",
    "y = a*x**2+b*x+c             ## Compute the functions y(x)"
   ]
  },
  {
   "cell_type": "markdown",
   "metadata": {},
   "source": [
    "## Plot the figure\n",
    "Below, we create a figure object, plot x vs y, add labels to the axes, and set the limits of our plot."
   ]
  },
  {
   "cell_type": "code",
   "execution_count": 3,
   "metadata": {},
   "outputs": [
    {
     "data": {
      "text/plain": [
       "(0, 20)"
      ]
     },
     "execution_count": 3,
     "metadata": {},
     "output_type": "execute_result"
    },
    {
     "data": {
      "image/png": "[encoded data removed]",
      "text/plain": [
       "<matplotlib.figure.Figure at 0x109c65cd0>"
      ]
     },
     "metadata": {},
     "output_type": "display_data"
    }
   ],
   "source": [
    "plt.figure(figsize=(8,8))  ## Create a figure object\n",
    "plt.plot(x,y)              ## Plot x vs y\n",
    "plt.xlabel('x')            ## Add label to x\n",
    "plt.ylabel('y')            ## Add label to y\n",
    "plt.xlim([-10,10])         ## Set the x limits\n",
    "plt.ylim([0,20])           ## Set the y limits"
   ]
  },
  {
   "cell_type": "markdown",
   "metadata": {},
   "source": [
    "## Problem to Solve\n",
    "Graph the electric field inside and outside the uniform spherical distribution of charge using the functions you obtained in part 1. Make sure you label the axes."
   ]
  },
  {
   "cell_type": "code",
   "execution_count": null,
   "metadata": {
    "collapsed": true
   },
   "outputs": [],
   "source": []
  }
 ],
 "metadata": {
  "kernelspec": {
   "display_name": "Python 2",
   "language": "python",
   "name": "python2"
  },
  "language_info": {
   "codemirror_mode": {
    "name": "ipython",
    "version": 3
   },
   "file_extension": ".py",
   "mimetype": "text/x-python",
   "name": "python",
   "nbconvert_exporter": "python",
   "pygments_lexer": "ipython3",
   "version": "3.6.2"
  }
 },
 "nbformat": 4,
 "nbformat_minor": 1
}
