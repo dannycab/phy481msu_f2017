{
 "cells": [
  {
   "cell_type": "markdown",
   "metadata": {},
   "source": [
    "# Method of Relaxation\n",
    "In this problem, you will use the method of relaxation to solve for the electric potential in a 2D rectangular box that is 10m by 10m. One side is set to a potential of 10V while the other three sides are set to 0V. Much of the code that sets up this problem has be written, but the core physics and computational steps are missing (see below). \n",
    "\n",
    "To successfully solve this problem, you will have to understand what different chunks of program do below. Some discussion is provided about each chunk."
   ]
  },
  {
   "cell_type": "markdown",
   "metadata": {},
   "source": [
    "## Setup and import libraries the needed libraries\n",
    "\n",
    "Below, we import the relevant libraries needed for our calculations and graphing. We also set a plot style and the size of the figures. "
   ]
  },
  {
   "cell_type": "code",
   "execution_count": 2,
   "metadata": {},
   "outputs": [],
   "source": [
    "import matplotlib\n",
    "import numpy as np\n",
    "import matplotlib.pyplot as plt\n",
    "from mpl_toolkits.mplot3d import Axes3D\n",
    "%matplotlib inline\n",
    "\n",
    "plt.style.use('fivethirtyeight')\n",
    "matplotlib.rcParams['figure.figsize'] = (7.0, 7.0)"
   ]
  },
  {
   "cell_type": "markdown",
   "metadata": {},
   "source": [
    "## Setup mesh\n",
    "\n",
    "To use the method of relaxation, we must discretize the space into a grid of points (or a mesh). In this case, we will discretize the space into a 51 by 51 set of equally-spaced grid points. We will use ```arange``` to specify the points between 0 and L=10 on in the x and y directions and then use ```meshgrid``` to construct paired grid points (as we have done before)."
   ]
  },
  {
   "cell_type": "code",
   "execution_count": 19,
   "metadata": {},
   "outputs": [],
   "source": [
    "L = 10.0; \n",
    "n = 50;\n",
    "dx = L/n;\n",
    "\n",
    "x = np.arange(0,(n+1)*dx,dx);\n",
    "y = np.arange(0,(n+1)*dx,dx);\n",
    "\n",
    "X,Y = np.meshgrid(x,y);"
   ]
  },
  {
   "cell_type": "markdown",
   "metadata": {},
   "source": [
    "## Initialize the potential\n",
    "\n",
    "Below, we construct a variable for the potential, which we initialize with zero over all the points."
   ]
  },
  {
   "cell_type": "code",
   "execution_count": 26,
   "metadata": {
    "collapsed": true
   },
   "outputs": [],
   "source": [
    "V = np.zeros((n+1,n+1));"
   ]
  },
  {
   "cell_type": "markdown",
   "metadata": {},
   "source": [
    "## Set the boundary condition\n",
    "Below we set the boundary condition to be 10V on one side of the box. Because we are using ```V[n,i]```, we are setting the boundary at x=10m to 10V. After you get the program working you can change the boundary conditions to more interesting things and see how easily the solution is produced (turn something interesting in for extra credit!)."
   ]
  },
  {
   "cell_type": "code",
   "execution_count": 28,
   "metadata": {},
   "outputs": [],
   "source": [
    "for i in np.arange(0,n+1):\n",
    "    V[n,i] = 10"
   ]
  },
  {
   "cell_type": "markdown",
   "metadata": {},
   "source": [
    "## Initialize error calculation and ensure safe exit\n",
    "Relaxation codes often run until the difference between two iterations on the mesh differ by less than some amount - the acceptable amount of error. This means that it's often not clear precisely how many iterations will be needed. If your error is very low, mesh is very fine, or solution changes rapidly, the number of iterations can become quite large - leading to long iteration times. \n",
    "\n",
    "To safely deal with this, we include a maximum number of iterations after which the code will definitely terminate, but it will also return the error in the calculation to give a sense of how many more calculations might be needed.\n",
    "\n",
    "Below, we construct a second variable for the potential that takes on the new iterated solution that will allow us to compare against the prior iteration. We also initialize a variable for the error between the new and old solutions.\n",
    "\n",
    "We also set the error tolerance, ```epsilon```, to 1e-1V and the maximum number of iterations, ```imax``` to 5000. Finally set start an interation counter ```k```."
   ]
  },
  {
   "cell_type": "code",
   "execution_count": 29,
   "metadata": {},
   "outputs": [],
   "source": [
    "VN = V + np.zeros((n+1,n+1)); # New iterated solution that will be compared to old one after each iteration\n",
    "err = VN - V;                 # Error between old and new iterated solution\n",
    "\n",
    "epsilon = 1e-1;               # Error tolerance between new and old iterated solution that will \n",
    "                              # cause the calculations to stop (i.e., the amount of error we \n",
    "                              # are willing to accept)\n",
    "imax = 5000;                  # Maximum number of iterations that we will allow before forcing our loop to exit\n",
    "k = 1;                        # Initialize the iteration counter"
   ]
  },
  {
   "cell_type": "markdown",
   "metadata": {},
   "source": [
    "## Calculation loops\n",
    "\n",
    "Below is the loop that will perform (with your added lines) the relaxation calculation (averaging over the four adjacent grid points:\n",
    "\n",
    "$$V_{i,j} = \\dfrac{1}{4}\\left(V_{i-1,j}+V_{i+1,j}+V_{i,j-1}+V_{i,j+1}\\right)$$\n",
    "\n",
    "The code should loop over the mesh starting at grid point (1,1) and calculates along the y-direction until it hits the boundary. Then it moves to grid point (2,1) and calculated along the y-direction again until it hits the boundary. It continues until it moves through all the points. Each time, the average is calculated for a point and stored in ```VN```, the error should be computed between ```VN``` and ```V``` and stored in ```err```.\n",
    "\n",
    "Once the loop finishes one full iteration, the old potential is replaced by the new one: ```V = VN + np.zeros((n+1,n+1))``` and we update the counter. *We have to add the np.zeros bit because of a pointer issue in Python, but it's essentially just a full replacement of the old value.*\n",
    "\n",
    "Finally, we determine the maximum value of the error on the mesh. If that max value is smaller than the error otlerance, we are done. We exit the loop and report the number of iterations and the error tolerance we achieved. Otherwise, we continue iterating. If we reach the amximum number of iterations, we exit and report the number of iterations and the maximum error on the mesh. "
   ]
  },
  {
   "cell_type": "code",
   "execution_count": 23,
   "metadata": {},
   "outputs": [
    {
     "name": "stdout",
     "output_type": "stream",
     "text": [
      "('Convergence after', 3387, 'iterations.')\n"
     ]
    }
   ],
   "source": [
    "while k < imax:\n",
    "    \n",
    "    for i in np.arange(1,n):\n",
    "        \n",
    "        for j in np.arange(1,n):\n",
    "            \n",
    "            ## Your physics calculation goes here. What's VN[i,j]?\n",
    "            \n",
    "            ## Your error calculation goes here. What's err[i,j]?\n",
    "    \n",
    "    ## Replace the old value with the new value now the we've calculated the error\n",
    "    V = VN + np.zeros((n+1,n+1)); # np.zeros deals with pointer issue\n",
    "    k += 1;                       # Update the number of iterations\n",
    "    \n",
    "    ## Compute the maximum error on the mesh\n",
    "    errmax = np.max(err); \n",
    "    \n",
    "    ## If the max error is less than the tolerance; exit and report\n",
    "    if errmax < epsilon:\n",
    "        \n",
    "        print(\"Convergence after\", k, \"iterations.\");\n",
    "        print(\"Max error on mesh: \", errmax);\n",
    "        break;\n",
    "    \n",
    "    ## If we exceed the number of maximum iterations allowed; exit and report\n",
    "    if k == imax:\n",
    "        \n",
    "        print(\"Did not converge after\", k, \"iterations.\");\n",
    "        print(\"Max error on mesh: \", errmax);\n",
    "        break;"
   ]
  },
  {
   "cell_type": "markdown",
   "metadata": {},
   "source": [
    "## Plots\n",
    "\n",
    "After you complete the code above, produce a 3D plots of the potential and a contour plot."
   ]
  },
  {
   "cell_type": "code",
   "execution_count": null,
   "metadata": {
    "collapsed": true
   },
   "outputs": [],
   "source": []
  }
 ],
 "metadata": {
  "kernelspec": {
   "display_name": "Python 2",
   "language": "python",
   "name": "python2"
  },
  "language_info": {
   "codemirror_mode": {
    "name": "ipython",
    "version": 3
   },
   "file_extension": ".py",
   "mimetype": "text/x-python",
   "name": "python",
   "nbconvert_exporter": "python",
   "pygments_lexer": "ipython3",
   "version": "3.6.1"
  }
 },
 "nbformat": 4,
 "nbformat_minor": 1
}
